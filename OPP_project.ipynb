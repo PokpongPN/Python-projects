{
 "cells": [
  {
   "cell_type": "markdown",
   "id": "2f07ed3e-6576-4f60-b3c5-479b997bbf2f",
   "metadata": {},
   "source": [
    "# Object-Oriented Programming in Python: ATM Class Implementation"
   ]
  },
  {
   "cell_type": "code",
   "execution_count": 20,
   "id": "3162a594-d222-410f-9baf-c7d212a82da3",
   "metadata": {
    "tags": []
   },
   "outputs": [],
   "source": [
    "class ATM:\n",
    "    def __init__(self, card_number, pin_number, balance, bank_name, location):\n",
    "        self.card_number = card_number \n",
    "        self.pin_number = pin_number\n",
    "        self.balance = balance\n",
    "        self.bank_name = bank_name\n",
    "        self.location = location\n",
    "        \n",
    "    def check_balance(self):\n",
    "        print(f\"Your balance is {self.balance}\")\n",
    "        \n",
    "    def withdraw(self, amount):\n",
    "        if amount > self.balance:\n",
    "            print(\"Insufficient funds!\")\n",
    "        else:\n",
    "            self.balance -= amount\n",
    "            print(f\"Withdrew {amount}. New balance is {self.balance}\")\n",
    "            \n",
    "    def deposit(self, amount):\n",
    "        self.balance += amount\n",
    "        print(f\"Deposited {amount}. New balance is {self.balance}\")\n",
    "        \n",
    "    def change_pin(self, new_pin):\n",
    "        self.pin_number = new_pin\n",
    "        print(\"PIN changed successfully!\")\n",
    "        \n",
    "    def transfer(self, recipient, amount):\n",
    "        if amount > self.balance:\n",
    "            print(\"Insufficient funds!\")\n",
    "        else:\n",
    "            self.balance -= amount\n",
    "            print(f\"Transferred {amount} to {recipient}. New balance is {self.balance}\")\n"
   ]
  },
  {
   "cell_type": "code",
   "execution_count": 21,
   "id": "136f1266-204c-4d9e-9018-445f7f710596",
   "metadata": {
    "tags": []
   },
   "outputs": [],
   "source": [
    "my_atm = ATM(1234567, 1234, 500, \"ABC Bank\", \"123 Main St\")"
   ]
  },
  {
   "cell_type": "code",
   "execution_count": 22,
   "id": "2e66984c-7a1e-44b8-a352-4ed1c77c37d7",
   "metadata": {
    "tags": []
   },
   "outputs": [
    {
     "data": {
      "text/plain": [
       "1234567"
      ]
     },
     "execution_count": 22,
     "metadata": {},
     "output_type": "execute_result"
    }
   ],
   "source": [
    "my_atm.card_number"
   ]
  },
  {
   "cell_type": "code",
   "execution_count": 23,
   "id": "13fda18c-97b8-432d-b43d-78e5418dbeb6",
   "metadata": {
    "tags": []
   },
   "outputs": [
    {
     "data": {
      "text/plain": [
       "1234"
      ]
     },
     "execution_count": 23,
     "metadata": {},
     "output_type": "execute_result"
    }
   ],
   "source": [
    "my_atm.pin_number"
   ]
  },
  {
   "cell_type": "code",
   "execution_count": 24,
   "id": "c9ab2435-9f38-44f0-9154-1d6a1387b205",
   "metadata": {
    "tags": []
   },
   "outputs": [
    {
     "data": {
      "text/plain": [
       "500"
      ]
     },
     "execution_count": 24,
     "metadata": {},
     "output_type": "execute_result"
    }
   ],
   "source": [
    "my_atm.balance"
   ]
  },
  {
   "cell_type": "code",
   "execution_count": 25,
   "id": "4b884437-9b59-4c4c-81f5-1a2021ea28af",
   "metadata": {
    "tags": []
   },
   "outputs": [
    {
     "data": {
      "text/plain": [
       "'ABC Bank'"
      ]
     },
     "execution_count": 25,
     "metadata": {},
     "output_type": "execute_result"
    }
   ],
   "source": [
    "my_atm.bank_name"
   ]
  },
  {
   "cell_type": "code",
   "execution_count": 26,
   "id": "41754963-0fe3-47d9-ba41-c50066e463aa",
   "metadata": {
    "tags": []
   },
   "outputs": [
    {
     "data": {
      "text/plain": [
       "'123 Main St'"
      ]
     },
     "execution_count": 26,
     "metadata": {},
     "output_type": "execute_result"
    }
   ],
   "source": [
    "my_atm.location"
   ]
  },
  {
   "cell_type": "code",
   "execution_count": 27,
   "id": "00f3d137-e864-479b-bcd1-9c32732bce0b",
   "metadata": {
    "tags": []
   },
   "outputs": [
    {
     "name": "stdout",
     "output_type": "stream",
     "text": [
      "Your balance is 500\n"
     ]
    }
   ],
   "source": [
    "# Check balance\n",
    "my_atm.check_balance() "
   ]
  },
  {
   "cell_type": "code",
   "execution_count": 28,
   "id": "f378b20f-1f04-4563-8437-fec2d87bf54f",
   "metadata": {
    "tags": []
   },
   "outputs": [
    {
     "name": "stdout",
     "output_type": "stream",
     "text": [
      "Withdrew 50. New balance is 450\n"
     ]
    }
   ],
   "source": [
    "# Withdraw money\n",
    "my_atm.withdraw(50)"
   ]
  },
  {
   "cell_type": "code",
   "execution_count": 29,
   "id": "3253522e-f2ab-4ab8-80e3-8ab143105a80",
   "metadata": {
    "tags": []
   },
   "outputs": [
    {
     "name": "stdout",
     "output_type": "stream",
     "text": [
      "Deposited 100. New balance is 550\n"
     ]
    }
   ],
   "source": [
    "# Deposit money  \n",
    "my_atm.deposit(100)"
   ]
  },
  {
   "cell_type": "code",
   "execution_count": 30,
   "id": "e5c9d884-0e57-49c2-aba5-5aa73770f89c",
   "metadata": {
    "tags": []
   },
   "outputs": [
    {
     "name": "stdout",
     "output_type": "stream",
     "text": [
      "PIN changed successfully!\n"
     ]
    }
   ],
   "source": [
    "# Change PIN\n",
    "my_atm.change_pin(5678) "
   ]
  },
  {
   "cell_type": "code",
   "execution_count": 31,
   "id": "2c888aa4-bb4a-4412-8e44-663f1ef49126",
   "metadata": {
    "tags": []
   },
   "outputs": [
    {
     "name": "stdout",
     "output_type": "stream",
     "text": [
      "Transferred 200 to John Doe. New balance is 350\n"
     ]
    }
   ],
   "source": [
    "# Transfer money\n",
    "my_atm.transfer(\"John Doe\", 200)"
   ]
  }
 ],
 "metadata": {
  "kernelspec": {
   "display_name": "Python 3 (ipykernel)",
   "language": "python",
   "name": "python3"
  },
  "language_info": {
   "codemirror_mode": {
    "name": "ipython",
    "version": 3
   },
   "file_extension": ".py",
   "mimetype": "text/x-python",
   "name": "python",
   "nbconvert_exporter": "python",
   "pygments_lexer": "ipython3",
   "version": "3.11.5"
  }
 },
 "nbformat": 4,
 "nbformat_minor": 5
}
