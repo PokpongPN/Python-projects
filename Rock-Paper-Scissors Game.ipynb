{
 "cells": [
  {
   "cell_type": "markdown",
   "id": "e47bde8a-fdb4-4899-bbec-9f2f4b605c2a",
   "metadata": {},
   "source": [
    "# Rock-Paper-Scissors Game"
   ]
  },
  {
   "cell_type": "code",
   "execution_count": 3,
   "id": "ea2e4ddd-a572-404f-9c2a-39d293c1adcb",
   "metadata": {
    "tags": []
   },
   "outputs": [
    {
     "name": "stdout",
     "output_type": "stream",
     "text": [
      "==========\n",
      "Welcome to Rock-Paper-Scissors Game!\n",
      "Here are the rules:\n",
      "- Choose 'R' for Rock\n",
      "- Choose 'P' for Paper\n",
      "- Choose 'S' for Scissors\n",
      "- Try to beat the robot by choosing the winning move!\n",
      "- Type 'Exit' to quit the game.\n",
      "==========\n"
     ]
    },
    {
     "name": "stdin",
     "output_type": "stream",
     "text": [
      "Your move:  r\n"
     ]
    },
    {
     "name": "stdout",
     "output_type": "stream",
     "text": [
      "Robot played: S\n",
      "You win!\n",
      "\n"
     ]
    },
    {
     "name": "stdin",
     "output_type": "stream",
     "text": [
      "Your move:  s\n"
     ]
    },
    {
     "name": "stdout",
     "output_type": "stream",
     "text": [
      "Robot played: P\n",
      "You win!\n",
      "\n"
     ]
    },
    {
     "name": "stdin",
     "output_type": "stream",
     "text": [
      "Your move:  p\n"
     ]
    },
    {
     "name": "stdout",
     "output_type": "stream",
     "text": [
      "Robot played: P\n",
      "It's a tie!\n",
      "\n"
     ]
    },
    {
     "name": "stdin",
     "output_type": "stream",
     "text": [
      "Your move:  p\n"
     ]
    },
    {
     "name": "stdout",
     "output_type": "stream",
     "text": [
      "Robot played: S\n",
      "You lose!\n",
      "\n"
     ]
    },
    {
     "name": "stdin",
     "output_type": "stream",
     "text": [
      "Your move:  r\n"
     ]
    },
    {
     "name": "stdout",
     "output_type": "stream",
     "text": [
      "Robot played: R\n",
      "It's a tie!\n",
      "\n"
     ]
    },
    {
     "name": "stdin",
     "output_type": "stream",
     "text": [
      "Your move:  s\n"
     ]
    },
    {
     "name": "stdout",
     "output_type": "stream",
     "text": [
      "Robot played: S\n",
      "It's a tie!\n",
      "\n"
     ]
    },
    {
     "name": "stdin",
     "output_type": "stream",
     "text": [
      "Your move:  p\n"
     ]
    },
    {
     "name": "stdout",
     "output_type": "stream",
     "text": [
      "Robot played: R\n",
      "You win!\n",
      "\n"
     ]
    },
    {
     "name": "stdin",
     "output_type": "stream",
     "text": [
      "Your move:  s\n"
     ]
    },
    {
     "name": "stdout",
     "output_type": "stream",
     "text": [
      "Robot played: P\n",
      "You win!\n",
      "\n"
     ]
    },
    {
     "name": "stdin",
     "output_type": "stream",
     "text": [
      "Your move:  r\n"
     ]
    },
    {
     "name": "stdout",
     "output_type": "stream",
     "text": [
      "Robot played: R\n",
      "It's a tie!\n",
      "\n"
     ]
    },
    {
     "name": "stdin",
     "output_type": "stream",
     "text": [
      "Your move:  w\n"
     ]
    },
    {
     "name": "stdout",
     "output_type": "stream",
     "text": [
      "Invalid input. Please enter R, P, S, or EXIT.\n",
      "\n"
     ]
    },
    {
     "name": "stdin",
     "output_type": "stream",
     "text": [
      "Your move:  exit\n"
     ]
    },
    {
     "name": "stdout",
     "output_type": "stream",
     "text": [
      "\n",
      "Game over!\n",
      "Turns: 9\n",
      "Ties: 4\n",
      "You won: 4\n",
      "Your win rate is 80.0%\n"
     ]
    }
   ],
   "source": [
    "import random\n",
    "\n",
    "def start_game():\n",
    "\n",
    "  # Display game rules to user\n",
    "  print(\"==========\")\n",
    "  print(\"Welcome to Rock-Paper-Scissors Game!\")\n",
    "  print(\"Here are the rules:\")\n",
    "  print(\"- Choose 'R' for Rock\") \n",
    "  print(\"- Choose 'P' for Paper\")\n",
    "  print(\"- Choose 'S' for Scissors\")\n",
    "  print(\"- Try to beat the robot by choosing the winning move!\")\n",
    "  print(\"- Type 'Exit' to quit the game.\")\n",
    "  print(\"==========\")\n",
    "  \n",
    "  # Define available options\n",
    "  options = [\"R\", \"P\", \"S\"]\n",
    "\n",
    "  # Initialize variables to track game stats\n",
    "  turns = 0\n",
    "  score = 0\n",
    "  ties = 0\n",
    "\n",
    "  # List of valid inputs\n",
    "  valid_inputs = [\"R\", \"P\", \"S\", \"EXIT\"]\n",
    "\n",
    "  # Main game loop\n",
    "  while True:\n",
    "\n",
    "    # Get random move for robot\n",
    "    robot = random.choice(options)\n",
    "\n",
    "    # Get move from user\n",
    "    user = input(\"Your move: \").upper()\n",
    "\n",
    "    # Check if user wants to exit game\n",
    "    if user == \"EXIT\":\n",
    "      print_stats(turns, score, ties)\n",
    "      break\n",
    "    \n",
    "    # Check for valid input\n",
    "    if user not in valid_inputs:\n",
    "      print(\"Invalid input. Please enter R, P, S, or EXIT.\")\n",
    "      print(\"\")\n",
    "      continue\n",
    "\n",
    "    # Print robot's move  \n",
    "    print(\"Robot played:\", robot)\n",
    "\n",
    "    # Determine winner\n",
    "    if user == robot:\n",
    "      print(\"It's a tie!\")\n",
    "      ties += 1\n",
    "    elif (user == \"R\" and robot == \"S\") or \\\n",
    "         (user == \"P\" and robot == \"R\") or \\\n",
    "         (user == \"S\" and robot == \"P\"):\n",
    "      print(\"You win!\")\n",
    "      score += 1\n",
    "    else:\n",
    "      print(\"You lose!\")\n",
    "\n",
    "    # Increment turn counter\n",
    "    turns += 1\n",
    "\n",
    "    print()\n",
    "\n",
    "def print_stats(turns, score, ties):\n",
    "  \"\"\"Print out game statistics\"\"\"\n",
    "\n",
    "  print(\"\")\n",
    "  print(\"Game over!\")\n",
    "  print(f\"Turns: {turns}\")\n",
    "  print(f\"Ties: {ties}\")\n",
    "  print(f\"You won: {score}\")\n",
    "  \n",
    "  if turns > 0:\n",
    "    win_rate = round(score / (turns - ties) * 100, 2)\n",
    "    print(f\"Your win rate is {win_rate}%\")\n",
    "  else:\n",
    "    print(\"No games played yet!\")\n",
    "\n",
    "# Start the game\n",
    "start_game()"
   ]
  },
  {
   "cell_type": "code",
   "execution_count": null,
   "id": "094a746c-6543-4eae-bf77-f47adf668ec6",
   "metadata": {},
   "outputs": [],
   "source": []
  }
 ],
 "metadata": {
  "kernelspec": {
   "display_name": "Python 3 (ipykernel)",
   "language": "python",
   "name": "python3"
  },
  "language_info": {
   "codemirror_mode": {
    "name": "ipython",
    "version": 3
   },
   "file_extension": ".py",
   "mimetype": "text/x-python",
   "name": "python",
   "nbconvert_exporter": "python",
   "pygments_lexer": "ipython3",
   "version": "3.11.5"
  }
 },
 "nbformat": 4,
 "nbformat_minor": 5
}
